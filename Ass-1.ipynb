{
 "cells": [
  {
   "cell_type": "markdown",
   "id": "5716dbf0-282e-45a9-88f9-92b5580147df",
   "metadata": {},
   "source": [
    "##Q1. Create one variable containing following type of data:\n",
    "(i) string\n",
    "(ii) list\n",
    "(iii) float\n",
    "(iv) tuple"
   ]
  },
  {
   "cell_type": "code",
   "execution_count": 6,
   "id": "09e594d6-5f20-43ac-bb65-84dfc41ccd84",
   "metadata": {},
   "outputs": [],
   "source": [
    "s = \"Suraaj\"\n",
    "l = [1,2,3,4,5]\n",
    "f = 33.9\n",
    "t = (1,2,3,\"Suraaj\",[1,2,3])"
   ]
  },
  {
   "cell_type": "markdown",
   "id": "2d8a6fdc-aaa4-4d63-9638-0eba0025b289",
   "metadata": {},
   "source": [
    "##Q2. Given are some following variables containing data:\n",
    "(i) var1 = ‘ ‘\n",
    "(ii) var2 = ‘[ DS , ML , Python]’\n",
    "(iii) var3 = [ ‘DS’ , ’ML’ , ‘Python’ ]\n",
    "(iv) var4 = 1."
   ]
  },
  {
   "cell_type": "code",
   "execution_count": 15,
   "id": "c38fdc99-f1f6-4f7b-befc-178909c89840",
   "metadata": {},
   "outputs": [
    {
     "data": {
      "text/plain": [
       "'this is int'"
      ]
     },
     "execution_count": 15,
     "metadata": {},
     "output_type": "execute_result"
    }
   ],
   "source": [
    "##1) var1=''\n",
    "'''this is string'''\n",
    "##2) var2 = '[DS,ML,Python]'\n",
    "'''this is string'''\n",
    "##3) var3 = ['DS','ML','Python']\n",
    "'''this is list'''\n",
    "##4) var4 = 1.\n",
    "'''this is int'''"
   ]
  },
  {
   "cell_type": "code",
   "execution_count": 16,
   "id": "7281f5c5-f0b0-4d80-ace7-9e58a62e3284",
   "metadata": {},
   "outputs": [
    {
     "data": {
      "text/plain": [
       "'##Q3. Explain the use of the following operators using an example:\\n(i) /\\n(ii) %\\n(iii) //\\n(iv) **'"
      ]
     },
     "execution_count": 16,
     "metadata": {},
     "output_type": "execute_result"
    }
   ],
   "source": [
    "'''##Q3. Explain the use of the following operators using an example:\n",
    "(i) /\n",
    "(ii) %\n",
    "(iii) //\n",
    "(iv) **'''"
   ]
  },
  {
   "cell_type": "code",
   "execution_count": 17,
   "id": "5bffbbde-2765-421c-8173-e50be5a03e0f",
   "metadata": {},
   "outputs": [],
   "source": [
    "a = 3\n",
    "b = 8\n",
    "c = a/b\n",
    "'''this is division'''"
   ]
  },
  {
   "cell_type": "code",
   "execution_count": 18,
   "id": "7973f459-8d1f-4cf4-a486-4b8f21d7f78f",
   "metadata": {},
   "outputs": [
    {
     "data": {
      "text/plain": [
       "0.375"
      ]
     },
     "execution_count": 18,
     "metadata": {},
     "output_type": "execute_result"
    }
   ],
   "source": [
    "c"
   ]
  },
  {
   "cell_type": "code",
   "execution_count": 19,
   "id": "946a477c-c9ca-402a-92d2-5958eb9e36eb",
   "metadata": {},
   "outputs": [],
   "source": [
    "d = a%b\n",
    "'''this is modulus'''"
   ]
  },
  {
   "cell_type": "code",
   "execution_count": 20,
   "id": "9340e532-7170-448e-8185-48b28288ee54",
   "metadata": {},
   "outputs": [
    {
     "data": {
      "text/plain": [
       "3"
      ]
     },
     "execution_count": 20,
     "metadata": {},
     "output_type": "execute_result"
    }
   ],
   "source": [
    "d"
   ]
  },
  {
   "cell_type": "code",
   "execution_count": 21,
   "id": "be93d540-b4ee-41e3-ab1e-997e724e28e1",
   "metadata": {},
   "outputs": [],
   "source": [
    "e = a//b\n",
    "'''this is floor division'''"
   ]
  },
  {
   "cell_type": "code",
   "execution_count": 22,
   "id": "d08cd460-9b57-478d-bb31-819f365c3b4b",
   "metadata": {},
   "outputs": [
    {
     "data": {
      "text/plain": [
       "0"
      ]
     },
     "execution_count": 22,
     "metadata": {},
     "output_type": "execute_result"
    }
   ],
   "source": [
    "e"
   ]
  },
  {
   "cell_type": "code",
   "execution_count": 25,
   "id": "d8598c06-217b-4a85-bc79-30ad4e91c01e",
   "metadata": {},
   "outputs": [
    {
     "data": {
      "text/plain": [
       "'this is Exponantion'"
      ]
     },
     "execution_count": 25,
     "metadata": {},
     "output_type": "execute_result"
    }
   ],
   "source": [
    "f = a**b\n",
    "'''this is Exponantion'''"
   ]
  },
  {
   "cell_type": "code",
   "execution_count": 26,
   "id": "e4788098-04d3-4a16-ac3b-da8e5bdf0eef",
   "metadata": {},
   "outputs": [
    {
     "data": {
      "text/plain": [
       "6561"
      ]
     },
     "execution_count": 26,
     "metadata": {},
     "output_type": "execute_result"
    }
   ],
   "source": [
    "f"
   ]
  },
  {
   "cell_type": "code",
   "execution_count": 27,
   "id": "feb46680-6b29-4da3-bbb0-b635dd475769",
   "metadata": {},
   "outputs": [
    {
     "data": {
      "text/plain": [
       "'##Q4. Create a list of length 10 of your choice containing multiple types of data. Using for loop print the\\nelement and its data type.'"
      ]
     },
     "execution_count": 27,
     "metadata": {},
     "output_type": "execute_result"
    }
   ],
   "source": [
    "'''##Q4. Create a list of length 10 of your choice containing multiple types of data. Using for loop print the\n",
    "element and its data type.'''"
   ]
  },
  {
   "cell_type": "code",
   "execution_count": 28,
   "id": "93df023e-9e3e-4c57-bee7-88ea73491d6e",
   "metadata": {},
   "outputs": [
    {
     "name": "stdout",
     "output_type": "stream",
     "text": [
      "1\n",
      "<class 'int'>\n",
      "2\n",
      "<class 'int'>\n",
      "3\n",
      "<class 'int'>\n",
      "4\n",
      "<class 'int'>\n",
      "5\n",
      "<class 'int'>\n",
      "Suraaj\n",
      "<class 'str'>\n",
      "33.9\n",
      "<class 'float'>\n"
     ]
    }
   ],
   "source": [
    "l = [1,2,3,4,5,\"Suraaj\",33.9]\n",
    "for i in l:\n",
    "    print(i)\n",
    "    print(type(i))"
   ]
  },
  {
   "cell_type": "code",
   "execution_count": 29,
   "id": "e1844f1f-a48d-4a5d-b029-5b6de2eecc0c",
   "metadata": {},
   "outputs": [
    {
     "data": {
      "text/plain": [
       "'##Q5. Using a while loop, verify if the number A is purely divisible by number B and if so then how many\\ntimes it can be divisible.'"
      ]
     },
     "execution_count": 29,
     "metadata": {},
     "output_type": "execute_result"
    }
   ],
   "source": [
    "'''##Q5. Using a while loop, verify if the number A is purely divisible by number B and if so then how many\n",
    "times it can be divisible.'''"
   ]
  },
  {
   "cell_type": "code",
   "execution_count": 48,
   "id": "96be3e08-ae4c-4b0c-a349-2b779131965c",
   "metadata": {},
   "outputs": [
    {
     "ename": "SyntaxError",
     "evalue": "invalid syntax (3606394034.py, line 3)",
     "output_type": "error",
     "traceback": [
      "\u001b[0;36m  Cell \u001b[0;32mIn[48], line 3\u001b[0;36m\u001b[0m\n\u001b[0;31m    print(a \"is divisibal by 7\")\u001b[0m\n\u001b[0m            ^\u001b[0m\n\u001b[0;31mSyntaxError\u001b[0m\u001b[0;31m:\u001b[0m invalid syntax\n"
     ]
    }
   ],
   "source": [
    "A = 4\n",
    "B = 2\n",
    "while A/b:\n",
    "    print(A)"
   ]
  },
  {
   "cell_type": "code",
   "execution_count": null,
   "id": "b26fc4fd-9692-4f18-a5e3-ffdf9aac0628",
   "metadata": {},
   "outputs": [],
   "source": [
    "'''Q6. Create a list containing 25 int type data. Using for loop and if-else condition print if the element is\n",
    "divisible by 3 or not.\n",
    "'''"
   ]
  },
  {
   "cell_type": "code",
   "execution_count": 5,
   "id": "d047586c-40f9-42ec-81cb-db045315a969",
   "metadata": {},
   "outputs": [
    {
     "name": "stdout",
     "output_type": "stream",
     "text": [
      "25 not Divisibal by 3\n"
     ]
    }
   ],
   "source": [
    "f = 25\n",
    "if f%3==0:\n",
    "    print(f,\"Divisible by 3\")\n",
    "else:\n",
    "    print(f,\"not Divisibal by 3\")"
   ]
  },
  {
   "cell_type": "code",
   "execution_count": 6,
   "id": "b0bccf96-3f50-4e74-a7cf-f048b51f7468",
   "metadata": {},
   "outputs": [
    {
     "data": {
      "text/plain": [
       "'Q7. What do you understand about mutable and immutable data types? Give examples for both showing\\nthis property.\\n'"
      ]
     },
     "execution_count": 6,
     "metadata": {},
     "output_type": "execute_result"
    }
   ],
   "source": [
    "'''Q7. What do you understand about mutable and immutable data types? Give examples for both showing\n",
    "this property.\n",
    "'''"
   ]
  },
  {
   "cell_type": "code",
   "execution_count": 7,
   "id": "62f48751-0cf1-4bec-9631-432d55b8cfb8",
   "metadata": {},
   "outputs": [
    {
     "data": {
      "text/plain": [
       "'Mutable\\nA Mutable data types can be changed after it is created\\n\\nexamples:- list,set,dic\\n\\nImmutable\\nImmutable object can not be changed after it is created\\n\\nexamples:- tuples,int,float\\n'"
      ]
     },
     "execution_count": 7,
     "metadata": {},
     "output_type": "execute_result"
    }
   ],
   "source": [
    "'''Mutable\n",
    "A Mutable data types can be changed after it is created\n",
    "\n",
    "examples:- list,set,dic\n",
    "\n",
    "Immutable\n",
    "Immutable object can not be changed after it is created\n",
    "\n",
    "examples:- tuples,int,float\n",
    "'''"
   ]
  },
  {
   "cell_type": "code",
   "execution_count": null,
   "id": "04b023f3-3e19-419a-986e-ea0613d62dd4",
   "metadata": {},
   "outputs": [],
   "source": []
  }
 ],
 "metadata": {
  "kernelspec": {
   "display_name": "Python 3 (ipykernel)",
   "language": "python",
   "name": "python3"
  },
  "language_info": {
   "codemirror_mode": {
    "name": "ipython",
    "version": 3
   },
   "file_extension": ".py",
   "mimetype": "text/x-python",
   "name": "python",
   "nbconvert_exporter": "python",
   "pygments_lexer": "ipython3",
   "version": "3.10.8"
  }
 },
 "nbformat": 4,
 "nbformat_minor": 5
}
